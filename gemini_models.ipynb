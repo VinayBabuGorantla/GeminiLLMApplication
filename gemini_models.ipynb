{
 "cells": [
  {
   "cell_type": "code",
   "execution_count": 3,
   "metadata": {},
   "outputs": [],
   "source": [
    "import google.generativeai as genai\n",
    "import os\n",
    "from dotenv import load_dotenv\n",
    "\n",
    "# Load environment variables from .env file\n",
    "load_dotenv()\n",
    "\n",
    "# Configure API key\n",
    "genai.configure(api_key=os.getenv(\"GOOGLE_API_KEY\"))\n",
    "\n",
    "# Function to list available models\n",
    "def list_available_models():\n",
    "    # Fetch all models available in the API\n",
    "    models = genai.list_models()\n",
    "    \n",
    "    # Print model names and their descriptions\n",
    "    for model in models:\n",
    "        print(f\"Model ID: {model.model_id}\")\n",
    "        print(f\"Description: {model.description}\\n\")\n",
    "\n",
    "# Call the function to display the models\n",
    "list_available_models()"
   ]
  }
 ],
 "metadata": {
  "kernelspec": {
   "display_name": "Python 3",
   "language": "python",
   "name": "python3"
  },
  "language_info": {
   "codemirror_mode": {
    "name": "ipython",
    "version": 3
   },
   "file_extension": ".py",
   "mimetype": "text/x-python",
   "name": "python",
   "nbconvert_exporter": "python",
   "pygments_lexer": "ipython3",
   "version": "3.10.0"
  }
 },
 "nbformat": 4,
 "nbformat_minor": 2
}
